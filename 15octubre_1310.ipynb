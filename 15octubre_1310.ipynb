{
  "nbformat": 4,
  "nbformat_minor": 0,
  "metadata": {
    "colab": {
      "name": "Te damos la bienvenida a Colaboratory",
      "provenance": [],
      "collapsed_sections": [],
      "include_colab_link": true
    },
    "kernelspec": {
      "display_name": "Python 3",
      "name": "python3"
    }
  },
  "cells": [
    {
      "cell_type": "markdown",
      "metadata": {
        "id": "view-in-github",
        "colab_type": "text"
      },
      "source": [
        "<a href=\"https://colab.research.google.com/github/FernadoEscobar/edd_3010_2021/blob/master/15octubre_1310.ipynb\" target=\"_parent\"><img src=\"https://colab.research.google.com/assets/colab-badge.svg\" alt=\"Open In Colab\"/></a>"
      ]
    },
    {
      "cell_type": "markdown",
      "metadata": {
        "id": "EDN5in53FtJK"
      },
      "source": [
        "#Modulos\n",
        "\n",
        "Son recursos reutulizables que contienen varias funciones que pueden ser importadas a tu codigo"
      ]
    },
    {
      "cell_type": "code",
      "metadata": {
        "id": "c-E9TuchCOIM",
        "outputId": "4f229aa7-ac38-4291-b3a8-0a8c4e9daa3f",
        "colab": {
          "base_uri": "https://localhost:8080/",
          "height": 52
        }
      },
      "source": [
        "\"\"\"\n",
        "import mi_modulo\n",
        "\n",
        "x=mi_modulo.sumar(4,7)\n",
        "\n",
        "print(x)\n",
        "\n",
        "print(mi_modulo.multiplicar(3,5))\n",
        "\"\"\""
      ],
      "execution_count": 3,
      "outputs": [
        {
          "output_type": "execute_result",
          "data": {
            "application/vnd.google.colaboratory.intrinsic+json": {
              "type": "string"
            },
            "text/plain": [
              "'\\nimport mi_modulo\\n\\nx=mi_modulo.sumar(4,7)\\n\\nprint(x)\\n\\nprint(mi_modulo.multiplicar(3,5))\\n'"
            ]
          },
          "metadata": {
            "tags": []
          },
          "execution_count": 3
        }
      ]
    },
    {
      "cell_type": "code",
      "metadata": {
        "id": "7SxcgWRIKW7n",
        "outputId": "251ab2ea-8c46-431b-8a8b-72c1b4f1aa21",
        "colab": {
          "base_uri": "https://localhost:8080/",
          "height": 34
        }
      },
      "source": [
        "from mi_modulo import sumar\n",
        "\n",
        "print(sumar(4,7))"
      ],
      "execution_count": 4,
      "outputs": [
        {
          "output_type": "stream",
          "text": [
            "11\n"
          ],
          "name": "stdout"
        }
      ]
    },
    {
      "cell_type": "code",
      "metadata": {
        "id": "H9Lep3DwLZHt",
        "outputId": "1e2d8e4c-20c2-4748-f2c0-e6f5256092d1",
        "colab": {
          "base_uri": "https://localhost:8080/",
          "height": 34
        }
      },
      "source": [
        "import mi_modulo as coringa\n",
        "\n",
        "print(coringa.sumar(4,6))"
      ],
      "execution_count": 5,
      "outputs": [
        {
          "output_type": "stream",
          "text": [
            "10\n"
          ],
          "name": "stdout"
        }
      ]
    },
    {
      "cell_type": "code",
      "metadata": {
        "id": "kSZ4tCkTMPfw",
        "outputId": "e08706a5-81d6-4240-acde-ee6af9d7463c",
        "colab": {
          "base_uri": "https://localhost:8080/",
          "height": 51
        }
      },
      "source": [
        "from mi_modulo import sumar,dividir\n",
        "\n",
        "print(sumar(4,7))\n",
        "print(dividir(14,7))"
      ],
      "execution_count": 6,
      "outputs": [
        {
          "output_type": "stream",
          "text": [
            "11\n",
            "2.0\n"
          ],
          "name": "stdout"
        }
      ]
    },
    {
      "cell_type": "code",
      "metadata": {
        "id": "hEVvnGMTOJcB",
        "outputId": "bf1a03d7-f59d-498f-923f-e8f76248c5bf",
        "colab": {
          "base_uri": "https://localhost:8080/",
          "height": 275
        }
      },
      "source": [
        "pip install joke-generator"
      ],
      "execution_count": 9,
      "outputs": [
        {
          "output_type": "stream",
          "text": [
            "Collecting joke-generator\n",
            "  Downloading https://files.pythonhosted.org/packages/95/e5/de76c4aff315ad38ab69cd25ea942250a51008e910905c1f8ef80265b15b/joke_generator-1.0.1.tar.gz\n",
            "Requirement already satisfied: requests>=2.22.0 in /usr/local/lib/python3.6/dist-packages (from joke-generator) (2.23.0)\n",
            "Requirement already satisfied: certifi>=2017.4.17 in /usr/local/lib/python3.6/dist-packages (from requests>=2.22.0->joke-generator) (2020.6.20)\n",
            "Requirement already satisfied: chardet<4,>=3.0.2 in /usr/local/lib/python3.6/dist-packages (from requests>=2.22.0->joke-generator) (3.0.4)\n",
            "Requirement already satisfied: urllib3!=1.25.0,!=1.25.1,<1.26,>=1.21.1 in /usr/local/lib/python3.6/dist-packages (from requests>=2.22.0->joke-generator) (1.24.3)\n",
            "Requirement already satisfied: idna<3,>=2.5 in /usr/local/lib/python3.6/dist-packages (from requests>=2.22.0->joke-generator) (2.10)\n",
            "Building wheels for collected packages: joke-generator\n",
            "  Building wheel for joke-generator (setup.py) ... \u001b[?25l\u001b[?25hdone\n",
            "  Created wheel for joke-generator: filename=joke_generator-1.0.1-cp36-none-any.whl size=2075 sha256=cae0b93acc442a316f1eb82c6e958e0ad0cb73059aed179ff981b3474b903bac\n",
            "  Stored in directory: /root/.cache/pip/wheels/b1/e1/1c/42a5a669d05834c31aab52f6f87b1c7d50718f7669d51bd347\n",
            "Successfully built joke-generator\n",
            "Installing collected packages: joke-generator\n",
            "Successfully installed joke-generator-1.0.1\n"
          ],
          "name": "stdout"
        }
      ]
    },
    {
      "cell_type": "code",
      "metadata": {
        "id": "mk-Qcn7CPvqr",
        "outputId": "999fa4c1-4805-41a1-b75b-9a479bf3d003",
        "colab": {
          "base_uri": "https://localhost:8080/",
          "height": 35
        }
      },
      "source": [
        "from joke_generator import  generate\n",
        "\n",
        "generate()"
      ],
      "execution_count": 12,
      "outputs": [
        {
          "output_type": "execute_result",
          "data": {
            "application/vnd.google.colaboratory.intrinsic+json": {
              "type": "string"
            },
            "text/plain": [
              "'What do you call a bee that lives in America? A USB.'"
            ]
          },
          "metadata": {
            "tags": []
          },
          "execution_count": 12
        }
      ]
    },
    {
      "cell_type": "markdown",
      "metadata": {
        "id": "5cHGuAIYSW7X"
      },
      "source": [
        "#archivos\n",
        "\n",
        "- open (str,str)\n",
        "  1. Nombre o ruta del archivo\n",
        "  1. Dos caracteres\n",
        "       - modo apertura del archivo(r,w,a append si y solo si el archivo existe, x append si y solo si el archivo no existe)\n",
        "       - formato del archivo (t o b)"
      ]
    },
    {
      "cell_type": "code",
      "metadata": {
        "id": "QjY4kzdsS5V7"
      },
      "source": [
        "archivo=open(\"saludo.txt\",\"wt\")\n",
        "archivo.writte(\"Hola mundo \\n Ola k ase\")\n",
        "archivo.close()"
      ],
      "execution_count": null,
      "outputs": []
    },
    {
      "cell_type": "code",
      "metadata": {
        "id": "GxNAF7smUdq4"
      },
      "source": [
        "otro=open(\"./sample_data/anscombe.json\",\"rt\")\n",
        "datos=otro.read()\n",
        "#print(datos)\n",
        "otro.close()"
      ],
      "execution_count": null,
      "outputs": []
    },
    {
      "cell_type": "code",
      "metadata": {
        "id": "DbTyymF0WfeZ",
        "outputId": "4372cff4-d2d1-4dae-e8d7-786ce8ea96ed",
        "colab": {
          "base_uri": "https://localhost:8080/",
          "height": 170
        }
      },
      "source": [
        "arch=open(\"frutas.txt\",\"rt\")\n",
        "data=\"ppp\"\n",
        "while (data!=\"\"):\n",
        "  data=arch.readline()\n",
        "  print(data)\n",
        "#print(arch.readline())\n",
        "#print(arch.readline())\n",
        "#print(arch.readline())\n",
        "#print(arch.readline())\n",
        "arch.close()\n",
        "arch=open(\"frutas.txt\",\"rt\")\n",
        "list_frutas=arch.readline()\n",
        "print(list_frutas)\n",
        "arch.close()"
      ],
      "execution_count": 6,
      "outputs": [
        {
          "output_type": "stream",
          "text": [
            "manzana,pera,kiwi,aguacate\n",
            "\n",
            "limon,naranja\n",
            "\n",
            "sandia,papaya\n",
            "\n",
            "\n",
            "manzana,pera,kiwi,aguacate\n",
            "\n"
          ],
          "name": "stdout"
        }
      ]
    },
    {
      "cell_type": "code",
      "metadata": {
        "id": "lkzcj_pnWsJl"
      },
      "source": [
        "help(otro)"
      ],
      "execution_count": null,
      "outputs": []
    }
  ]
}