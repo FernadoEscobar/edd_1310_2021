{
  "nbformat": 4,
  "nbformat_minor": 0,
  "metadata": {
    "colab": {
      "name": "Te damos la bienvenida a Colaboratory",
      "provenance": [],
      "collapsed_sections": [],
      "include_colab_link": true
    },
    "kernelspec": {
      "display_name": "Python 3",
      "name": "python3"
    }
  },
  "cells": [
    {
      "cell_type": "markdown",
      "metadata": {
        "id": "view-in-github",
        "colab_type": "text"
      },
      "source": [
        "<a href=\"https://colab.research.google.com/github/FernadoEscobar/edd_3010_2021/blob/master/13octubre_1310.ipynb\" target=\"_parent\"><img src=\"https://colab.research.google.com/assets/colab-badge.svg\" alt=\"Open In Colab\"/></a>"
      ]
    },
    {
      "cell_type": "code",
      "metadata": {
        "id": "1gHmXKFsx0aA",
        "outputId": "88dc248e-7cd0-43b4-a95a-4b0ef88d2a8a",
        "colab": {
          "base_uri": "https://localhost:8080/",
          "height": 146
        }
      },
      "source": [
        "alumno = { \n",
        "          \"num_cta\" : 303030303 ,\n",
        "          \"carrera\" : \"ICO\",\n",
        "          \"promedio\" : 9.8,\n",
        "          \"materias\" :[\"EDD\",\"CyP\",\"Calidad\",\"Emprendimiento\"],\n",
        "          \"direccion\" : { \n",
        "                            \"calle\":\"rancho seco\",\n",
        "                            \"numero\" : 23 ,\n",
        "                            \"delegacion\" : \"Neza\",\n",
        "                            \"estado\" : {\n",
        "                                        \"id\" : 15 ,\n",
        "                                        \"nombre\" : \"Estado de Máxico\" ,\n",
        "                                        \"nombre_corto\" : \"EdoMex\"\n",
        "                                        } ,\n",
        "                            \"CP\":57170\n",
        "\n",
        "                        } \n",
        "          }\n",
        "print(alumno)\n",
        "alumno[\"carrera\"]=\"Ingenieria en computacion\"\n",
        "print(alumno)\n",
        "alumno[\"nombre_completo\"] = {\"primer\":\"Juan\",\n",
        "                            \"segundo\":\"Pedro\",\n",
        "                            \"materno\": \"Perez\",\n",
        "                            \"paterno\": \"Gomez\"\n",
        "                            }\n",
        "alumno[\"semestre\"] = 3\n",
        "print(alumno)\n",
        "print(f\"{alumno[\"nombre_completo\"][\"primer\"]} {alumno[\"nombre_completo\"][\"segundo\"]}\")"
      ],
      "execution_count": 46,
      "outputs": [
        {
          "output_type": "error",
          "ename": "SyntaxError",
          "evalue": "ignored",
          "traceback": [
            "\u001b[0;36m  File \u001b[0;32m\"<ipython-input-46-7fef5209b53e>\"\u001b[0;36m, line \u001b[0;32m29\u001b[0m\n\u001b[0;31m    print(f\"{alumno[\"nombre_completo\"],[\"primer\"]} {alumno[\"nombre_completo\"][\"segundo\"]}\")\u001b[0m\n\u001b[0m                                   ^\u001b[0m\n\u001b[0;31mSyntaxError\u001b[0m\u001b[0;31m:\u001b[0m invalid syntax\n"
          ]
        }
      ]
    },
    {
      "cell_type": "code",
      "metadata": {
        "id": "q-IO7EYtydiZ",
        "outputId": "badb26e7-5c0d-4d22-9d22-cd5f750c7221",
        "colab": {
          "base_uri": "https://localhost:8080/",
          "height": 428
        }
      },
      "source": [
        "#key, values() y items()\n",
        "\n",
        "llaves=alumno.keys()\n",
        "print(llaves)\n",
        "for llave in llaves:\n",
        "    print(llave.upper())\n",
        "\n",
        "valores=alumno.values()\n",
        "for val in valores:\n",
        "    print(val)\n",
        "\n",
        "pares=alumno.items()\n",
        "print(pares)                      \n",
        "for elem in pares:\n",
        "  print(f\"el campo {elem[0] } tiene el valor {elem[1]}\")"
      ],
      "execution_count": 14,
      "outputs": [
        {
          "output_type": "stream",
          "text": [
            "dict_keys(['num_cta', 'carrera', 'promedio', 'materias', 'direccion', 'nombre completo', 'semestre'])\n",
            "NUM_CTA\n",
            "CARRERA\n",
            "PROMEDIO\n",
            "MATERIAS\n",
            "DIRECCION\n",
            "NOMBRE COMPLETO\n",
            "SEMESTRE\n",
            "303030303\n",
            "Ingenieria en computacion\n",
            "9.8\n",
            "['EDD', 'CyP', 'Calidad', 'Emprendimiento']\n",
            "{'calle': 'rancho seco', 'numero': 23, 'delegacion': 'Neza', 'estado': {'id': 15, 'nombre': 'Estado de Máxico', 'nombre_corto': 'EdoMex'}, 'CP': 57170}\n",
            "{'primer': 'Juan', 'segundo': 'Pedro', 'materno': 'Perez', 'paterno': 'Gomez'}\n",
            "3\n",
            "dict_items([('num_cta', 303030303), ('carrera', 'Ingenieria en computacion'), ('promedio', 9.8), ('materias', ['EDD', 'CyP', 'Calidad', 'Emprendimiento']), ('direccion', {'calle': 'rancho seco', 'numero': 23, 'delegacion': 'Neza', 'estado': {'id': 15, 'nombre': 'Estado de Máxico', 'nombre_corto': 'EdoMex'}, 'CP': 57170}), ('nombre completo', {'primer': 'Juan', 'segundo': 'Pedro', 'materno': 'Perez', 'paterno': 'Gomez'}), ('semestre', 3)])\n",
            "el campo num_cta tiene el valor 303030303\n",
            "el campo carrera tiene el valor Ingenieria en computacion\n",
            "el campo promedio tiene el valor 9.8\n",
            "el campo materias tiene el valor ['EDD', 'CyP', 'Calidad', 'Emprendimiento']\n",
            "el campo direccion tiene el valor {'calle': 'rancho seco', 'numero': 23, 'delegacion': 'Neza', 'estado': {'id': 15, 'nombre': 'Estado de Máxico', 'nombre_corto': 'EdoMex'}, 'CP': 57170}\n",
            "el campo nombre completo tiene el valor {'primer': 'Juan', 'segundo': 'Pedro', 'materno': 'Perez', 'paterno': 'Gomez'}\n",
            "el campo semestre tiene el valor 3\n"
          ],
          "name": "stdout"
        }
      ]
    },
    {
      "cell_type": "code",
      "metadata": {
        "id": "WS9ML5zJ1FX1",
        "outputId": "b22fd025-1e72-4f85-b0f9-32e0c60dad23",
        "colab": {
          "base_uri": "https://localhost:8080/",
          "height": 54
        }
      },
      "source": [
        "#contatenar diccionarios\n",
        "computadora={\"procesador\":\"intel i7\",\"ram\":\"kingston 128gb\"}\n",
        "otros={\"monitor\":\"LG 49\\''\",\"hd\":\"Toshiba 178\"}\n",
        "computadora.update(otros)\n",
        "print(computadora)\n"
      ],
      "execution_count": 16,
      "outputs": [
        {
          "output_type": "stream",
          "text": [
            "{'procesador': 'intel i7', 'ram': 'kingston 128gb', 'monitor': \"LG 49''\", 'hd': 'Toshiba 178'}\n"
          ],
          "name": "stdout"
        }
      ]
    },
    {
      "cell_type": "markdown",
      "metadata": {
        "id": "bHwYdMJ52x5c"
      },
      "source": [
        "#Funciones\n",
        "*Unidades de codigo reutilizable\n",
        "\n",
        "*Es un mecanismo de organizacion de codigo\n",
        "\n",
        "*Una funcion toma de 0 a n parametros de entrada\n",
        "\n",
        "*Tiene una sola salida (return) de cualquier dato\n",
        "\n",
        "*Solo puedes hacer dos cosas:\n",
        "\n",
        "   -definitiva \n",
        "\n",
        "   -llamarla\n",
        "   \n",
        "*Se definen con la palabra reservada 'def'"
      ]
    },
    {
      "cell_type": "code",
      "metadata": {
        "id": "gzLq3h5I3yML",
        "outputId": "1890d7c6-b383-465e-e376-10824e212cdc",
        "colab": {
          "base_uri": "https://localhost:8080/",
          "height": 170
        }
      },
      "source": [
        "def sumar(x,y):\n",
        "  resultado= x + y\n",
        "  return resultado\n",
        "def saludar(nombre):\n",
        "  print(f\"Hola {nombre}, ¿Como estas?\")\n",
        "def multiplicar(valor, veces):\n",
        "  if valor!=None:\n",
        "    c=valor * veces\n",
        "  else:\n",
        "    c=\"Operacion no valida\"\n",
        "  return c\n",
        "def operacion(a,b,c):\n",
        "  res=a+(b/c)\n",
        "  return res\n",
        "print(sumar(10,5))\n",
        "saludar(\"Fernando\")\n",
        "print(saludar(\"Fernando\"))\n",
        "print(multiplicar(5,6))\n",
        "print(multiplicar(None,6))\n",
        "\n",
        "print(operacion(2,9,3))\n",
        "print(operacion(2,3,9))\n",
        "\n",
        "print(operacion(a=2,c=3,b=9))"
      ],
      "execution_count": 24,
      "outputs": [
        {
          "output_type": "stream",
          "text": [
            "15\n",
            "Hola Fernando, ¿Como estas?\n",
            "Hola Fernando, ¿Como estas?\n",
            "None\n",
            "30\n",
            "Operacion no valida\n",
            "5.0\n",
            "2.3333333333333335\n",
            "5.0\n"
          ],
          "name": "stdout"
        }
      ]
    },
    {
      "cell_type": "code",
      "metadata": {
        "id": "Lw_U1Yf3-qgO",
        "outputId": "bceed3a6-9798-4410-d447-1a0720f3c8f4",
        "colab": {
          "base_uri": "https://localhost:8080/",
          "height": 292
        }
      },
      "source": [
        "#Valores por defecto\n",
        "def comanda(primer,fuerte,postre=\"Galleta de animalito\" ):\n",
        "  print(f\"De entrada pidio:{ primer }\")\n",
        "  print(f\"De plato fuerte: { fuerte }\")\n",
        "  print(f\"Postre: { postre }\")\n",
        "\n",
        "#argumentos posicionales con tuplas *\n",
        "def comanda_2(*opciones):\n",
        "  print(opciones)\n",
        "  print(f\"De entrada pidio:{ opciones[0] }\")\n",
        "  print(f\"De plato fuerte: { opciones[1] }\")\n",
        "  print(f\"Postre: { opciones[2] }\")\n",
        "  print(\"\\nIndicaciones extra:\")\n",
        "  for ind in opciones[3::]:\n",
        "    print(f\"\\t {ind}\")\n",
        "comanda(\"Sopa aguada\", \"Tortas de papa\", \"Gelatina de limon\")\n",
        "comanda(\"Sopa aguada\", \"Tortas de papa\")\n",
        "comanda_2(\"Sopa aguada\", \"Tortas de papa\",\"Gelatina de limon\",\"Las tortas bien doradas\", \"Traer 2 limones\",\"Agua con hielo\")"
      ],
      "execution_count": 40,
      "outputs": [
        {
          "output_type": "stream",
          "text": [
            "De entrada pidio:Sopa aguada\n",
            "De plato fuerte: Tortas de papa\n",
            "Postre: Gelatina de limon\n",
            "De entrada pidio:Sopa aguada\n",
            "De plato fuerte: Tortas de papa\n",
            "Postre: Galleta de animalito\n",
            "('Sopa aguada', 'Tortas de papa', 'Gelatina de limon', 'Las tortas bien doradas', 'Traer 2 limones', 'Agua con hielo')\n",
            "De entrada pidio:Sopa aguada\n",
            "De plato fuerte: Tortas de papa\n",
            "Postre: Gelatina de limon\n",
            "\n",
            "Indicaciones extra:\n",
            "\t Las tortas bien doradas\n",
            "\t Traer 2 limones\n",
            "\t Agua con hielo\n"
          ],
          "name": "stdout"
        }
      ]
    },
    {
      "cell_type": "code",
      "metadata": {
        "id": "N6lEvCfVCDhB",
        "outputId": "09aa7d36-b340-42ce-992d-671b7b736da5",
        "colab": {
          "base_uri": "https://localhost:8080/",
          "height": 156
        }
      },
      "source": [
        "#Argumentos posicionales con diccionarios\n",
        "def comanda_3(**opciones):\n",
        "  print(opciones)\n",
        "  for op in opciones.items():\n",
        "      print(f\"{op[0]} -> {op[1]}\")\n",
        "comanda_3(primer=\"Sopa aguada\",fuerte=\"Tortas de papa\",postre=\"Gelatina de limon\",extra1=\"Las tortas bien doradas\",extra2=\"Traer 2 limones\",extra3=\"Agua con hielo\") \n"
      ],
      "execution_count": 43,
      "outputs": [
        {
          "output_type": "stream",
          "text": [
            "{'primer': 'Sopa aguada', 'fuerte': 'Tortas de papa', 'postre': 'Gelatina de limon', 'extra1': 'Las tortas bien doradas', 'extra2': 'Traer 2 limones', 'extra3': 'Agua con hielo'}\n",
            "primer -> Sopa aguada\n",
            "fuerte -> Tortas de papa\n",
            "postre -> Gelatina de limon\n",
            "extra1 -> Las tortas bien doradas\n",
            "extra2 -> Traer 2 limones\n",
            "extra3 -> Agua con hielo\n"
          ],
          "name": "stdout"
        }
      ]
    }
  ]
}