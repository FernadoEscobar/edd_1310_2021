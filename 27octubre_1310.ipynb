{
  "nbformat": 4,
  "nbformat_minor": 0,
  "metadata": {
    "colab": {
      "name": "27octubre_1310.ipynb",
      "provenance": [],
      "authorship_tag": "ABX9TyNK7hnm+8QvhBl7Ln64jL+0",
      "include_colab_link": true
    },
    "kernelspec": {
      "name": "python3",
      "display_name": "Python 3"
    }
  },
  "cells": [
    {
      "cell_type": "markdown",
      "metadata": {
        "id": "view-in-github",
        "colab_type": "text"
      },
      "source": [
        "<a href=\"https://colab.research.google.com/github/FernadoEscobar/edd_3010_2021/blob/master/27octubre_1310.ipynb\" target=\"_parent\"><img src=\"https://colab.research.google.com/assets/colab-badge.svg\" alt=\"Open In Colab\"/></a>"
      ]
    },
    {
      "cell_type": "code",
      "metadata": {
        "id": "wGV-VJTnAO74",
        "outputId": "abe38f2d-90f9-4764-a8b4-74d233152b7e",
        "colab": {
          "base_uri": "https://localhost:8080/",
          "height": 68
        }
      },
      "source": [
        "class Computadora:\n",
        "    def __init__( self , m , p):\n",
        "        self.__marca = m\n",
        "        self.__procesador = p  #\"__\"creara un valor privado que no se puede modificar\n",
        "\n",
        "    def to_string( self ):\n",
        "        return \"Marca:\"+self.__marca+\" Procesador:\"+self.__procesador\n",
        "    def set_marca(self, m):\n",
        "        self.__marca=m\n",
        "    def get_marca(self):\n",
        "        return self.__marca\n",
        "    def set_procesador(self,p):\n",
        "        self.__procesador=p\n",
        "    def get_procesador(self):\n",
        "        return self.__procesador\n",
        "mi_pc = Computadora(\"Toshiba\",\"Intel i7\")\n",
        "print(mi_pc.to_string())\n",
        "mi_pc.__marca=\"HP \" #intentando cambiar el valor privado\n",
        "mi_pc.set_marca(\"HP co.\")\n",
        "print(mi_pc.to_string())\n",
        "#print(mi_pc.__procesador)\n",
        "print(mi_pc.get_procesador())"
      ],
      "execution_count": 11,
      "outputs": [
        {
          "output_type": "stream",
          "text": [
            "Marca:Toshiba Procesador:Intel i7\n",
            "Marca:HP co. Procesador:Intel i7\n",
            "Intel i7\n"
          ],
          "name": "stdout"
        }
      ]
    },
    {
      "cell_type": "markdown",
      "metadata": {
        "id": "2thBGdMXEN8E"
      },
      "source": [
        "#Encapsulamiento python 3\n",
        "## Tradicional tipo java\n",
        "    void setAtributo( val )\n",
        "    tipo getAtributo( )\n",
        "#Estilo python 3\n",
        "UTILIZANDO DECORADORES\n",
        "- @property\n",
        "- @atributo setter"
      ]
    },
    {
      "cell_type": "code",
      "metadata": {
        "id": "dwMVeSdXENGr",
        "outputId": "5b74c8d6-5762-419d-c018-d416c7c7c708",
        "colab": {
          "base_uri": "https://localhost:8080/",
          "height": 102
        }
      },
      "source": [
        "class Computadora:\n",
        "  def __init__(self,m,p):\n",
        "    self.marca=m #No se declara,se manda a llamar el decorador @property\n",
        "    self.procesador=p #idem\n",
        "  \n",
        "  @property  #declara como atributo privado y funciona como metodo get\n",
        "  def marca(self):\n",
        "    return self.__marca\n",
        "\n",
        "  @marca.setter\n",
        "  def marca(self, m):\n",
        "    print(\"En el setter MARCA\")\n",
        "    self.__marca=m\n",
        "\n",
        "  @property\n",
        "  def procesador(self):\n",
        "    return self.__procesador\n",
        "\n",
        "  @procesador.setter\n",
        "  def procesador(self,p):\n",
        "    print(\"En el método set de procesador\")\n",
        "    self.__procesador=p\n",
        "\n",
        "  def to_string(self):\n",
        "    return \"Marca:\" + self.marca + \" Procesador:\" + self.procesador\n",
        "\n",
        "mi_pc2=Computadora(\"Mac Book pro\", \"Intel i7\")\n",
        "print(mi_pc2.to_string())   \n",
        "mi_pc2.marca=\"Dell\"\n",
        "print(mi_pc2.to_string()) "
      ],
      "execution_count": 28,
      "outputs": [
        {
          "output_type": "stream",
          "text": [
            "En el setter MARCA\n",
            "En el método set de procesador\n",
            "Marca:Mac Book pro Procesador:Intel i7\n",
            "En el setter MARCA\n",
            "Marca:Dell Procesador:Intel i7\n"
          ],
          "name": "stdout"
        }
      ]
    },
    {
      "cell_type": "code",
      "metadata": {
        "id": "7q140e5fLr47",
        "outputId": "c1c4a82f-6f33-42c1-8033-7b641783f0a2",
        "colab": {
          "base_uri": "https://localhost:8080/",
          "height": 85
        }
      },
      "source": [
        "#Herencia, pasando la clase base a la declaracion\n",
        "class ServidorEmpresarial(Computadora):\n",
        "  def __init__(self):\n",
        "    print(\"Hola servidor\")\n",
        "\n",
        "server=ServidorEmpresarial()\n",
        "server.marca=\"Sun Micro Systems\"\n",
        "server.procesador=\"intel i7\"\n",
        "print(server.to_string())"
      ],
      "execution_count": 29,
      "outputs": [
        {
          "output_type": "stream",
          "text": [
            "Hola servidor\n",
            "En el setter MARCA\n",
            "En el método set de procesador\n",
            "Marca:Sun Micro Systems Procesador:intel i7\n"
          ],
          "name": "stdout"
        }
      ]
    }
  ]
}