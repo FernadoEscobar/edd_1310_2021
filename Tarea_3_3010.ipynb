{
  "nbformat": 4,
  "nbformat_minor": 0,
  "metadata": {
    "colab": {
      "name": "Tarea#3_3010.ipynb",
      "provenance": [],
      "authorship_tag": "ABX9TyPLMF2h0gtIxQ75zBgueKfP",
      "include_colab_link": true
    },
    "kernelspec": {
      "name": "python3",
      "display_name": "Python 3"
    }
  },
  "cells": [
    {
      "cell_type": "markdown",
      "metadata": {
        "id": "view-in-github",
        "colab_type": "text"
      },
      "source": [
        "<a href=\"https://colab.research.google.com/github/FernadoEscobar/edd_3010_2021/blob/master/Tarea_3_3010.ipynb\" target=\"_parent\"><img src=\"https://colab.research.google.com/assets/colab-badge.svg\" alt=\"Open In Colab\"/></a>"
      ]
    },
    {
      "cell_type": "code",
      "metadata": {
        "id": "lU98ODHdZdYP",
        "outputId": "a7f07ac3-6b7b-40ff-86cf-07b7fa742fdf",
        "colab": {
          "base_uri": "https://localhost:8080/",
          "height": 51
        }
      },
      "source": [
        "class persona:\n",
        "  Nombre=\"Fernando\"\n",
        "  Edad=\"20\"\n",
        "  Estarura=\"1.86\"\n",
        "  def __init__(self,d,c):\n",
        "   self.__dormir=d\n",
        "   self.__comer=c\n",
        "  def to_string(self): \n",
        "   return \"Hora de dormir:\"+self.__dormir+\" Hora de comer:\"+self.__comer\n",
        "info=persona\n",
        "type(info)\n",
        "dir(info)\n",
        "info.Nombre\n",
        "info.Edad\n",
        "info.Estarura\n",
        "print(\"Nombre:\"+info.Nombre+\" Edad:\"+info.Edad+ \" Estatura:\"+info.Estarura)\n",
        "info_extra=persona(\"11PM\",\"3PM\")\n",
        "print(info_extra.to_string())"
      ],
      "execution_count": 33,
      "outputs": [
        {
          "output_type": "stream",
          "text": [
            "Nombre:Fernando Edad:20 Estatura:1.86\n",
            "Hora de dormir:11PM Hora de comer:3PM\n"
          ],
          "name": "stdout"
        }
      ]
    },
    {
      "cell_type": "code",
      "metadata": {
        "id": "CYUvjIHdoHc-",
        "outputId": "3f7eeca4-07b9-49f7-b38e-314c3282a899",
        "colab": {
          "base_uri": "https://localhost:8080/",
          "height": 51
        }
      },
      "source": [
        "class celular:\n",
        "  Marca=\"Samsung\"\n",
        "  Modelo=\"Galaxy A10\"\n",
        "  Memoria=\"128GB\"\n",
        "  def __init__(self,l,a):\n",
        "   self.__llamada=l\n",
        "   self.__alarma=a\n",
        "  def to_string(self): \n",
        "   return \"Llamar a las:\"+self.__llamada+\" Programar alarma a las:\"+self.__alarma\n",
        "Especificaciones=celular\n",
        "type(Especificaciones)\n",
        "dir(Especificaciones)\n",
        "Especificaciones.Marca\n",
        "Especificaciones.Modelo\n",
        "Especificaciones.Memoria\n",
        "print(\"Marca:\"+Especificaciones.Marca+\" Modelo:\"+Especificaciones.Modelo+ \" Espacio de memoria:\"+Especificaciones.Memoria)\n",
        "Horario=celular(\"6AM\",\"5PM\")\n",
        "print(Horario.to_string())"
      ],
      "execution_count": 32,
      "outputs": [
        {
          "output_type": "stream",
          "text": [
            "Marca:Samsung Modelo:Galaxy A10 Espacio de memoria:128GB\n",
            "Llamar a las:6AM Programar alarma a las:5PM\n"
          ],
          "name": "stdout"
        }
      ]
    }
  ]
}