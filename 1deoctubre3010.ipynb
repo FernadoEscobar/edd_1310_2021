{
  "nbformat": 4,
  "nbformat_minor": 0,
  "metadata": {
    "colab": {
      "name": "Te damos la bienvenida a Colaboratory",
      "provenance": [],
      "collapsed_sections": [],
      "toc_visible": true,
      "include_colab_link": true
    },
    "kernelspec": {
      "display_name": "Python 3",
      "name": "python3"
    }
  },
  "cells": [
    {
      "cell_type": "markdown",
      "metadata": {
        "id": "view-in-github",
        "colab_type": "text"
      },
      "source": [
        "<a href=\"https://colab.research.google.com/github/FernadoEscobar/edd_3010_2021/blob/master/1deoctubre3010.ipynb\" target=\"_parent\"><img src=\"https://colab.research.google.com/assets/colab-badge.svg\" alt=\"Open In Colab\"/></a>"
      ]
    },
    {
      "cell_type": "code",
      "metadata": {
        "id": "Je-eXe1b8RpD",
        "outputId": "a4464911-8c9b-446a-9d10-8aa5b2549852",
        "colab": {
          "base_uri": "https://localhost:8080/",
          "height": 51
        }
      },
      "source": [
        "escuela='FES Aragon'\n",
        "print(escuela)\n",
        "print('---------')"
      ],
      "execution_count": 1,
      "outputs": [
        {
          "output_type": "stream",
          "text": [
            "FES Aragon\n",
            "---------\n"
          ],
          "name": "stdout"
        }
      ]
    },
    {
      "cell_type": "code",
      "metadata": {
        "id": "wV0vbRq48oMD",
        "outputId": "0822c349-ff06-4ddf-f522-b2564fa0ffe2",
        "colab": {
          "base_uri": "https://localhost:8080/",
          "height": 136
        }
      },
      "source": [
        "#Preferencia '' para una sola palabra, \"\" para una frase corta, \"\"\" para frases mas extensas\n",
        "edad=13\n",
        "estatura=1.67\n",
        "fumador=True\n",
        "frase=\"\"\"\n",
        "Esta es una\n",
        "frase\n",
        "de multiples lineas\n",
        "y tambien es\n",
        "un tipo de dato\n",
        "\"\"\"\n",
        "print(frase)\n",
        "nombre='Jose'\n",
        "nombre_completo=\"Jose Sosa Cardenas\""
      ],
      "execution_count": 5,
      "outputs": [
        {
          "output_type": "stream",
          "text": [
            "\n",
            "Esta es una\n",
            "frase\n",
            "de multiples lineas\n",
            "y tambien es\n",
            "un tipo de dato\n",
            "\n"
          ],
          "name": "stdout"
        }
      ]
    },
    {
      "cell_type": "code",
      "metadata": {
        "id": "jDx5b7E3-Or4",
        "outputId": "02e4b36b-0322-4e67-f716-40ed41534849",
        "colab": {
          "base_uri": "https://localhost:8080/",
          "height": 34
        }
      },
      "source": [
        "print(nombre,edad)"
      ],
      "execution_count": 6,
      "outputs": [
        {
          "output_type": "stream",
          "text": [
            "Jose 13\n"
          ],
          "name": "stdout"
        }
      ]
    },
    {
      "cell_type": "code",
      "metadata": {
        "id": "NZ564kTD_hEO",
        "outputId": "5ddd1d72-56d8-45b8-a485-9f03051dd321",
        "colab": {
          "base_uri": "https://localhost:8080/",
          "height": 51
        }
      },
      "source": [
        "#+ concatena\n",
        "print(nombre + str(edad))\n",
        "print(nombre + nombre_completo)"
      ],
      "execution_count": 8,
      "outputs": [
        {
          "output_type": "stream",
          "text": [
            "Jose13\n",
            "JoseJose Sosa Cardenas\n"
          ],
          "name": "stdout"
        }
      ]
    },
    {
      "cell_type": "code",
      "metadata": {
        "id": "cE2t-vlJAmQj",
        "outputId": "0c389e72-09db-4969-fc4f-591610d159cc",
        "colab": {
          "base_uri": "https://localhost:8080/",
          "height": 34
        }
      },
      "source": [
        "print(\"su nombre es\",nombre,\"su edad es\",edad,\"años.\")"
      ],
      "execution_count": 10,
      "outputs": [
        {
          "output_type": "stream",
          "text": [
            "su nombre es Jose su edad es 13 años.\n"
          ],
          "name": "stdout"
        }
      ]
    },
    {
      "cell_type": "code",
      "metadata": {
        "id": "naTcmO78BJGW",
        "outputId": "d5ccac44-9ba8-41a8-b11d-41363da37902",
        "colab": {
          "base_uri": "https://localhost:8080/",
          "height": 34
        }
      },
      "source": [
        "#con format\n",
        "print(\"su nombre es {0} y su edad es de {1} años.\".format(nombre,edad))"
      ],
      "execution_count": 11,
      "outputs": [
        {
          "output_type": "stream",
          "text": [
            "su nombre es Jose y su edad es de 13 años.\n"
          ],
          "name": "stdout"
        }
      ]
    },
    {
      "cell_type": "code",
      "metadata": {
        "id": "0CxXFq1nBw28",
        "outputId": "e20c7f21-dfc3-4c79-a86b-d55252d4c52c",
        "colab": {
          "base_uri": "https://localhost:8080/",
          "height": 34
        }
      },
      "source": [
        "#con format con el operador f\n",
        "print(f\"su nombre es {nombre} y su edad es de {edad} años.\")"
      ],
      "execution_count": 12,
      "outputs": [
        {
          "output_type": "stream",
          "text": [
            "su nombre es Jose y su edad es de 13 años.\n"
          ],
          "name": "stdout"
        }
      ]
    },
    {
      "cell_type": "markdown",
      "metadata": {
        "id": "UOv0EW6RCktM"
      },
      "source": [
        "#caracter de escape\n",
        "\\n salto de pagina\n",
        "\n",
        "\\t tabulador\n",
        "\n",
        "\\a beep\n",
        "\n",
        "\\\\\" imprimir comilla doble\n",
        "\n",
        "\\\\' imprimir comilla simple"
      ]
    },
    {
      "cell_type": "code",
      "metadata": {
        "id": "RBLmzEc1D7OI",
        "outputId": "012e3a6e-7a22-4ac4-e646-e491ad35a4bf",
        "colab": {
          "base_uri": "https://localhost:8080/",
          "height": 51
        }
      },
      "source": [
        "print(f\"\\tMi nombre es \\n\\t\\t {nombre}\")"
      ],
      "execution_count": 13,
      "outputs": [
        {
          "output_type": "stream",
          "text": [
            "\tMi nombre es \n",
            "\t\t Jose\n"
          ],
          "name": "stdout"
        }
      ]
    },
    {
      "cell_type": "markdown",
      "metadata": {
        "id": "0a3PIHmVEHYK"
      },
      "source": [
        "#Ayuda de tipos de datos en python\n",
        "dir()\n",
        "\n",
        "help()"
      ]
    },
    {
      "cell_type": "code",
      "metadata": {
        "id": "-LhZWxPyElcr"
      },
      "source": [
        "#str, int, float, bool ... list, dict, set\n",
        "dir(str)"
      ],
      "execution_count": null,
      "outputs": []
    },
    {
      "cell_type": "code",
      "metadata": {
        "id": "ePazTO94E4k3"
      },
      "source": [
        "help(str)"
      ],
      "execution_count": null,
      "outputs": []
    },
    {
      "cell_type": "code",
      "metadata": {
        "id": "A_hkS7hPE7zP",
        "outputId": "317333fa-ac95-4228-dc98-e9b0e9483a3a",
        "colab": {
          "base_uri": "https://localhost:8080/",
          "height": 34
        }
      },
      "source": [
        "print(nombre_completo.capitalize())"
      ],
      "execution_count": 18,
      "outputs": [
        {
          "output_type": "stream",
          "text": [
            "Jose sosa cardenas\n"
          ],
          "name": "stdout"
        }
      ]
    },
    {
      "cell_type": "code",
      "metadata": {
        "id": "Piu7LCfNFq6x",
        "outputId": "8803c33f-f149-4b10-a543-34fbcc506027",
        "colab": {
          "base_uri": "https://localhost:8080/",
          "height": 34
        }
      },
      "source": [
        "print(nombre_completo.upper() , end='-----')"
      ],
      "execution_count": 21,
      "outputs": [
        {
          "output_type": "stream",
          "text": [
            "JOSE SOSA CARDENAS-----"
          ],
          "name": "stdout"
        }
      ]
    },
    {
      "cell_type": "code",
      "metadata": {
        "id": "bxkddt7zF9Xh",
        "outputId": "d6369e3e-1ddf-4d15-86a7-d4c679e70784",
        "colab": {
          "base_uri": "https://localhost:8080/",
          "height": 34
        }
      },
      "source": [
        "print(nombre_completo.title())"
      ],
      "execution_count": 20,
      "outputs": [
        {
          "output_type": "stream",
          "text": [
            "Jose Sosa Cardenas\n"
          ],
          "name": "stdout"
        }
      ]
    },
    {
      "cell_type": "markdown",
      "metadata": {
        "id": "dZRxVrExGrhh"
      },
      "source": [
        "#Clase String\n",
        "Es manejada como un arreglo(c o java) o como una lista(python)"
      ]
    },
    {
      "cell_type": "code",
      "metadata": {
        "id": "fQ6mzq9OHERX",
        "outputId": "e51f47fe-9526-4e31-f3c2-fb6fe2d9dc4b",
        "colab": {
          "base_uri": "https://localhost:8080/",
          "height": 51
        }
      },
      "source": [
        "telefono= \"Huawei mate 30 pro\"\n",
        "print(telefono[0])\n",
        "print(telefono[5])"
      ],
      "execution_count": 23,
      "outputs": [
        {
          "output_type": "stream",
          "text": [
            "H\n",
            "i\n"
          ],
          "name": "stdout"
        }
      ]
    },
    {
      "cell_type": "markdown",
      "metadata": {
        "id": "ePQqwqLZIMdj"
      },
      "source": [
        "#Slicing(rebanado)\n",
        "[inicio:stop:incremento]\n",
        "\n",
        "stop se para un signo antes del indicado"
      ]
    },
    {
      "cell_type": "code",
      "metadata": {
        "id": "8UH0eqSNIhj5",
        "outputId": "b2ac8983-9c10-4df1-84fc-266e6d729244",
        "colab": {
          "base_uri": "https://localhost:8080/",
          "height": 119
        }
      },
      "source": [
        "print(telefono[7:11:1])\n",
        "#inicio e incremento son opcionales\n",
        "print(telefono[:11:])\n",
        "#el valor por defecto de stop es len(str)\n",
        "print(telefono[::])\n",
        "#incremento negativo\n",
        "print(telefono[::-1])\n",
        "print(telefono[-3::1])\n",
        "ini=-3\n",
        "inc=1\n",
        "print(telefono[ini::inc])"
      ],
      "execution_count": 32,
      "outputs": [
        {
          "output_type": "stream",
          "text": [
            "mate\n",
            "Huawei mate\n",
            "Huawei mate 30 pro\n",
            "orp 03 etam iewauH\n",
            "pro\n",
            "pro\n"
          ],
          "name": "stdout"
        }
      ]
    },
    {
      "cell_type": "code",
      "metadata": {
        "id": "pmte58N8NkOu",
        "outputId": "5a47e01e-1939-4206-c391-3e44bc362c1a",
        "colab": {
          "base_uri": "https://localhost:8080/",
          "height": 323
        }
      },
      "source": [
        "facultad=\"   facultad de estudios superiores aragon   \\n\"\n",
        "print(facultad)\n",
        "#contar elementos en cadena\n",
        "print(facultad.count('s'))\n",
        "#encontrar posicion del elemento\n",
        "print(facultad.find('s'))\n",
        "#similar al find\n",
        "print(facultad.index('s'))\n",
        "#quita espacios en blanco al inicio y al final(incluye saltos de linea)\n",
        "print(facultad.strip())\n",
        "#separar elementos\n",
        "print(facultad.split('t'))\n",
        "print(\"----------------------------\")\n",
        "print(facultad.strip().split(\" \"))\n",
        "#copiar cadena\n",
        "otra_cadena=facultad\n",
        "print(otra_cadena)\n",
        "otra_cadena= \"FES aragon\"\n",
        "print(facultad)\n",
        "print(otra_cadena)\n",
        "#copiar listas\n",
        "colores=(\"rojo\",\"verde\")\n",
        "otra=colores\n",
        "print(colores)\n",
        "print(otra)\n",
        "print(colores)\n",
        "print(otra)"
      ],
      "execution_count": 57,
      "outputs": [
        {
          "output_type": "stream",
          "text": [
            "   facultad de estudios superiores aragon   \n",
            "\n",
            "4\n",
            "16\n",
            "16\n",
            "facultad de estudios superiores aragon\n",
            "['   facul', 'ad de es', 'udios superiores aragon   \\n']\n",
            "----------------------------\n",
            "['facultad', 'de', 'estudios', 'superiores', 'aragon']\n",
            "   facultad de estudios superiores aragon   \n",
            "\n",
            "   facultad de estudios superiores aragon   \n",
            "\n",
            "FES aragon\n",
            "('rojo', 'verde')\n",
            "('rojo', 'verde')\n",
            "('rojo', 'verde')\n",
            "('rojo', 'verde')\n"
          ],
          "name": "stdout"
        }
      ]
    }
  ]
}