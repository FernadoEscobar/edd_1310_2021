{
  "nbformat": 4,
  "nbformat_minor": 0,
  "metadata": {
    "colab": {
      "name": "Te damos la bienvenida a Colaboratory",
      "provenance": [],
      "collapsed_sections": [],
      "include_colab_link": true
    },
    "kernelspec": {
      "display_name": "Python 3",
      "name": "python3"
    }
  },
  "cells": [
    {
      "cell_type": "markdown",
      "metadata": {
        "id": "view-in-github",
        "colab_type": "text"
      },
      "source": [
        "<a href=\"https://colab.research.google.com/github/FernadoEscobar/edd_3010_2021/blob/master/8octubre_3010.ipynb\" target=\"_parent\"><img src=\"https://colab.research.google.com/assets/colab-badge.svg\" alt=\"Open In Colab\"/></a>"
      ]
    },
    {
      "cell_type": "code",
      "metadata": {
        "id": "S_Hnb9ax_YZM",
        "outputId": "cbc53bec-618f-4d6b-d459-8c477ec49607",
        "colab": {
          "base_uri": "https://localhost:8080/",
          "height": 139
        }
      },
      "source": [
        "monitores =[[\"Samsung\",\"17.3 \\\"\",1024],[\"BenQ\",\"40\\\"\",2048]]\n",
        "procesadores = [[\"Intel\",\"i7\",3.4],[\"AMD\",\"razzer\",3.3],[\"Intel\",\"i3\",3.1]]\n",
        "memorias = [[\"Kingston\", \"8GB\",\"DDR4\"],[\"Kingston\", \"16GB\",\"DDR3\"],[\"ADATA\", \"32GB\",\"DDR4\"]]\n",
        "\n",
        "componentes = [monitores,procesadores,memorias]\n",
        "print(componentes)\n",
        "print(componentes[1])\n",
        "print(componentes[2][1][1])\n",
        "print(int(componentes[0][1][2])*2)\n",
        "print(componentes[1][1][1][1:4])\n",
        "print(componentes[2][2][0].lower())"
      ],
      "execution_count": 6,
      "outputs": [
        {
          "output_type": "stream",
          "text": [
            "[[['Samsung', '17.3 \"', 1024], ['BenQ', '40\"', 2048]], [['Intel', 'i7', 3.4], ['AMD', 'razzer', 3.3], ['Intel', 'i3', 3.1]], [['Kingston', '8GB', 'DDR4'], ['Kingston', '16GB', 'DDR3'], ['ADATA', '32GB', 'DDR4']]]\n",
            "[['Intel', 'i7', 3.4], ['AMD', 'razzer', 3.3], ['Intel', 'i3', 3.1]]\n",
            "16GB\n",
            "4096\n",
            "azz\n",
            "adata\n"
          ],
          "name": "stdout"
        }
      ]
    },
    {
      "cell_type": "code",
      "metadata": {
        "id": "5Xi2nUFAHuLJ",
        "outputId": "e76480fb-8c93-493a-a114-be4de9a4eef7",
        "colab": {
          "base_uri": "https://localhost:8080/",
          "height": 68
        }
      },
      "source": [
        "#copiar listas\n",
        "#extender listas\n",
        "frutas=[\"manzana\",\"pera\"]\n",
        "otras_frutas=[\"aguacate\",\"sandia\"]\n",
        "\n",
        "#frutas.append(otras_frutas)\n",
        "print(frutas)\n",
        "\n",
        "#+ sobre frutas (no modifica las listas)\n",
        "#frutas=frutas + otras_frutas\n",
        "#print(frutas)\n",
        "\n",
        "#funcion extend() (.extend modifica la lista)\n",
        "frutas.extend(otras_frutas)\n",
        "print(frutas)\n",
        "frutas.append(otras_frutas)\n",
        "print(frutas)"
      ],
      "execution_count": 11,
      "outputs": [
        {
          "output_type": "stream",
          "text": [
            "['manzana', 'pera']\n",
            "['manzana', 'pera', 'aguacate', 'sandia']\n",
            "['manzana', 'pera', 'aguacate', 'sandia', ['aguacate', 'sandia']]\n"
          ],
          "name": "stdout"
        }
      ]
    },
    {
      "cell_type": "code",
      "metadata": {
        "id": "CUlMt4oXLED-",
        "outputId": "ae3dafd9-4acf-416b-fc62-34df761c0a42",
        "colab": {
          "base_uri": "https://localhost:8080/",
          "height": 136
        }
      },
      "source": [
        "#copiar listas\n",
        "colores=[\"azul\",\"rojo\",\"verde\",\"violeta\"]\n",
        "otros_colores=colores #copia el mismo directorio y la usa en el mismo espacio de la memoria(cualquier modificacion se vera afectada en ambos)\n",
        "print(colores)\n",
        "print(otros_colores)\n",
        "otros_colores.append(\"rosa\")\n",
        "print(colores)\n",
        "print(otros_colores)\n",
        "\n",
        "una_mas=colores.copy() #copia un directorio y lo almacena en un espacio diferente de la memoria(modificaciones solo afectaran a este)\n",
        "print(una_mas)\n",
        "una_mas.append(\"gris\")\n",
        "print(colores)\n",
        "print(una_mas)"
      ],
      "execution_count": 15,
      "outputs": [
        {
          "output_type": "stream",
          "text": [
            "['azul', 'rojo', 'verde', 'violeta']\n",
            "['azul', 'rojo', 'verde', 'violeta']\n",
            "['azul', 'rojo', 'verde', 'violeta', 'rosa']\n",
            "['azul', 'rojo', 'verde', 'violeta', 'rosa']\n",
            "['azul', 'rojo', 'verde', 'violeta', 'rosa']\n",
            "['azul', 'rojo', 'verde', 'violeta', 'rosa']\n",
            "['azul', 'rojo', 'verde', 'violeta', 'rosa', 'gris']\n"
          ],
          "name": "stdout"
        }
      ]
    },
    {
      "cell_type": "code",
      "metadata": {
        "id": "vBCGlegdO0_K",
        "outputId": "aa4aa58f-a7fa-4523-d7c0-55eb58fea557",
        "colab": {
          "base_uri": "https://localhost:8080/",
          "height": 34
        }
      },
      "source": [
        "#unpacking de listas\n",
        "alumno=[\"Jesus\",\"Perez\",\"Herrera\",22,\"ICO\",10.0]\n",
        " #nombre=alumno[0]\n",
        " #paterno=alumno[1]\n",
        "\n",
        "nombre,paterno,materno,edad,carrera,promedio=alumno\n",
        "print(f\"alumno:{nombre} carrera:{carrera} promedio:{promedio}\")"
      ],
      "execution_count": 19,
      "outputs": [
        {
          "output_type": "stream",
          "text": [
            "alumno:Jesus carrera:ICO promedio:10.0\n"
          ],
          "name": "stdout"
        }
      ]
    },
    {
      "cell_type": "markdown",
      "metadata": {
        "id": "rwjK699GR4VR"
      },
      "source": [
        "#Tuplas\n",
        "\n",
        "Se declaran con ()\n",
        "\n",
        "Selector con []\n",
        "\n",
        "No son mutables"
      ]
    },
    {
      "cell_type": "code",
      "metadata": {
        "id": "kkNWmlB-STYN",
        "outputId": "8ce44db5-8b8c-4d20-c590-b698c0d5ec3f",
        "colab": {
          "base_uri": "https://localhost:8080/",
          "height": 68
        }
      },
      "source": [
        "precios=(99.9,49.9,12.45,23.3,33.44,55.66)\n",
        "print(precios[1])\n",
        "#precios[1]=50.0\n",
        "print(precios)\n",
        "print(precios[2:4])"
      ],
      "execution_count": 27,
      "outputs": [
        {
          "output_type": "stream",
          "text": [
            "49.9\n",
            "(99.9, 49.9, 12.45, 23.3, 33.44, 55.66)\n",
            "(12.45, 23.3)\n"
          ],
          "name": "stdout"
        }
      ]
    },
    {
      "cell_type": "markdown",
      "metadata": {
        "id": "PHXsAsIJTlX9"
      },
      "source": [
        "#Diccionarios\n",
        "\n",
        "Se declaran con {}\n",
        "\n",
        "Son mutables\n",
        "\n",
        "Conjunto de pares llaves: valor\n",
        "\n",
        "Equivalente a los objetos JSON de JavaScript"
      ]
    },
    {
      "cell_type": "code",
      "metadata": {
        "id": "WJYlAj5hT6ZX",
        "outputId": "36910546-d4fc-42a9-c336-79c8a7fedfa7",
        "colab": {
          "base_uri": "https://localhost:8080/",
          "height": 139
        }
      },
      "source": [
        "cliente={  }\n",
        "print(cliente)\n",
        "alumno={ \"num_cuenta\" :3030303003}\n",
        "print(alumno)\n",
        "\n",
        "alumno = { \n",
        "          \"num_cta\" : 303030303 ,\n",
        "          \"carrera\" : \"ICO\",\n",
        "          \"promedio\" : 9.8,\n",
        "          \"materias\" :[\"EDD\",\"CyP\",\"Calidad\",\"Emprendimiento\"],\n",
        "          \"direccion\" : { \n",
        "                            \"calle\":\"rancho seco\",\n",
        "                            \"numero\" : 23 ,\n",
        "                            \"delegacion\" : \"Neza\",\n",
        "                            \"estado\" : {\n",
        "                                        \"id\" : 15 ,\n",
        "                                        \"nombre\" : \"Estado de Máxico\" ,\n",
        "                                        \"nombre_corto\" : \"EdoMex\"\n",
        "                                        } ,\n",
        "                            \"CP\":57170\n",
        "\n",
        "                        } \n",
        "          }\n",
        "print(alumno)\n",
        "print(alumno['materias'])\n",
        "print(alumno['promedio'])\n",
        "print(alumno['direccion']['estado']['nombre_corto'])"
      ],
      "execution_count": 38,
      "outputs": [
        {
          "output_type": "stream",
          "text": [
            "{}\n",
            "{'num_cuenta': 3030303003}\n",
            "{'num_cta': 303030303, 'carrera': 'ICO', 'promedio': 9.8, 'materias': ['EDD', 'CyP', 'Calidad', 'Emprendimiento'], 'direccion': {'calle': 'rancho seco', 'numero': 23, 'delegacion': 'Neza', 'estado': {'id': 15, 'nombre': 'Estado de Máxico', 'nombre_corto': 'EdoMex'}, 'CP': 57170}}\n",
            "['EDD', 'CyP', 'Calidad', 'Emprendimiento']\n",
            "9.8\n",
            "EdoMex\n"
          ],
          "name": "stdout"
        }
      ]
    }
  ]
}