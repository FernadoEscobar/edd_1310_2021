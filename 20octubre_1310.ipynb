{
  "nbformat": 4,
  "nbformat_minor": 0,
  "metadata": {
    "colab": {
      "name": "20octubre_1310.ipynb",
      "provenance": [],
      "authorship_tag": "ABX9TyN0HlzyIZASNjXxdeYmzSZ7",
      "include_colab_link": true
    },
    "kernelspec": {
      "name": "python3",
      "display_name": "Python 3"
    }
  },
  "cells": [
    {
      "cell_type": "markdown",
      "metadata": {
        "id": "view-in-github",
        "colab_type": "text"
      },
      "source": [
        "<a href=\"https://colab.research.google.com/github/FernadoEscobar/edd_3010_2021/blob/master/20octubre_1310.ipynb\" target=\"_parent\"><img src=\"https://colab.research.google.com/assets/colab-badge.svg\" alt=\"Open In Colab\"/></a>"
      ]
    },
    {
      "cell_type": "markdown",
      "metadata": {
        "id": "v2JAOLfl2rR2"
      },
      "source": [
        "#sintaxis del for en python\n",
        "\n",
        "dos versiones de for\n",
        "1. range\n",
        "2. in iterador"
      ]
    },
    {
      "cell_type": "code",
      "metadata": {
        "id": "5FLHXKh2245h",
        "outputId": "7ba92eb5-ca05-4b2e-d0b0-62fce1ba4464",
        "colab": {
          "base_uri": "https://localhost:8080/",
          "height": 238
        }
      },
      "source": [
        "r=range(0,10,2)\n",
        "for x in r:\n",
        "  print(x)\n",
        "colores=['rojo','rosa','azul','fucsia']\n",
        "for indice in range(0,4,1):  #for(indice =0;indice<;indice++)\n",
        "  print(colores[indice])\n",
        "#for sobre un iterador\n",
        "for col in colores:\n",
        "  print(col)"
      ],
      "execution_count": 14,
      "outputs": [
        {
          "output_type": "stream",
          "text": [
            "0\n",
            "2\n",
            "4\n",
            "6\n",
            "8\n",
            "rojo\n",
            "rosa\n",
            "azul\n",
            "fucsia\n",
            "rojo\n",
            "rosa\n",
            "azul\n",
            "fucsia\n"
          ],
          "name": "stdout"
        }
      ]
    },
    {
      "cell_type": "markdown",
      "metadata": {
        "id": "z3CePcHt7-9V"
      },
      "source": [
        "#Generadores\n",
        "\n",
        "[valor for x in range()]"
      ]
    },
    {
      "cell_type": "code",
      "metadata": {
        "id": "jpPt_chf8W4l",
        "outputId": "940bdd90-974e-46d8-df17-9ae0ae32337e",
        "colab": {
          "base_uri": "https://localhost:8080/",
          "height": 34
        }
      },
      "source": [
        "lista=['hola' for x in range(10)]\n",
        "print(lista)"
      ],
      "execution_count": 17,
      "outputs": [
        {
          "output_type": "stream",
          "text": [
            "['hola', 'hola', 'hola', 'hola', 'hola', 'hola', 'hola', 'hola', 'hola', 'hola']\n"
          ],
          "name": "stdout"
        }
      ]
    },
    {
      "cell_type": "code",
      "metadata": {
        "id": "6enwig8r90n1",
        "outputId": "04f01745-b4f2-4eb3-c241-09399b8ab32f",
        "colab": {
          "base_uri": "https://localhost:8080/",
          "height": 34
        }
      },
      "source": [
        "lista=[ [0 for x in range(3)] for x in range(3)]\n",
        "print(lista)"
      ],
      "execution_count": 22,
      "outputs": [
        {
          "output_type": "stream",
          "text": [
            "[[0, 0, 0], [0, 0, 0], [0, 0, 0]]\n"
          ],
          "name": "stdout"
        }
      ]
    },
    {
      "cell_type": "code",
      "metadata": {
        "id": "mC68-gAp-W3r",
        "outputId": "f44b0090-117d-4dee-9d09-0a35bef0cacf",
        "colab": {
          "base_uri": "https://localhost:8080/",
          "height": 34
        }
      },
      "source": [
        "ren=3\n",
        "col=3\n",
        "lista=[[0 for x in range(col)]for x in range(ren)]\n",
        "print(lista)"
      ],
      "execution_count": 23,
      "outputs": [
        {
          "output_type": "stream",
          "text": [
            "[[0, 0, 0], [0, 0, 0], [0, 0, 0]]\n"
          ],
          "name": "stdout"
        }
      ]
    },
    {
      "cell_type": "markdown",
      "metadata": {
        "id": "H0vT3t5W_Fje"
      },
      "source": [
        "#POO en python\n",
        "- clase\n",
        "- creacion de objetos\n",
        "- constructor\n",
        "- encapsulamiento\n",
        "- metodos\n",
        "- atributos\n",
        "- herencias"
      ]
    },
    {
      "cell_type": "code",
      "metadata": {
        "id": "uOdaupuK_ZV2",
        "outputId": "cbdf41c6-dfef-4196-f78a-1785a72d9c9b",
        "colab": {
          "base_uri": "https://localhost:8080/",
          "height": 34
        }
      },
      "source": [
        "class computadora:\n",
        "  def __init__(self, m, p): #class llevara __init__ siempre\n",
        "    self.__marca= m\n",
        "    self.__procesador= p\n",
        "\n",
        "  def to_string(self):\n",
        "    return \"Marca: \"+ self.__marca+\" Procesador: \"+ self.__procesador  \n",
        "mi_pc=computadora(\"Toshiba\",\"Intel i7\")\n",
        "mi_pc.__marca=\"HP \"\n",
        "print(mi_pc.to_string())"
      ],
      "execution_count": 40,
      "outputs": [
        {
          "output_type": "stream",
          "text": [
            "Marca: Toshiba Procesador: Intel i7\n"
          ],
          "name": "stdout"
        }
      ]
    }
  ]
}