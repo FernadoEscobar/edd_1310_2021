{
  "nbformat": 4,
  "nbformat_minor": 0,
  "metadata": {
    "colab": {
      "name": "Te damos la bienvenida a Colaboratory",
      "provenance": [],
      "collapsed_sections": [],
      "toc_visible": true,
      "include_colab_link": true
    },
    "kernelspec": {
      "display_name": "Python 3",
      "name": "python3"
    }
  },
  "cells": [
    {
      "cell_type": "markdown",
      "metadata": {
        "id": "view-in-github",
        "colab_type": "text"
      },
      "source": [
        "<a href=\"https://colab.research.google.com/github/FernadoEscobar/edd_3010_2021/blob/master/6Octubre_3010.ipynb\" target=\"_parent\"><img src=\"https://colab.research.google.com/assets/colab-badge.svg\" alt=\"Open In Colab\"/></a>"
      ]
    },
    {
      "cell_type": "code",
      "metadata": {
        "id": "T4lRm3_lqs5k",
        "outputId": "63fda940-1935-488f-c4eb-dbdc4ddfe55a",
        "colab": {
          "base_uri": "https://localhost:8080/",
          "height": 170
        }
      },
      "source": [
        "#string continuacion\n",
        "numeros_txt=\"    1,2, 3,4, 5,   35,   15,    12\"\n",
        "print(numeros_txt) \n",
        "numeros_txt=numeros_txt.lstrip().split(\",\")\n",
        "print(numeros_txt)\n",
        "\n",
        "for j in range(len(numeros_txt)):\n",
        "  numeros_txt[j]=int(numeros_txt[j].strip())\n",
        "print(numeros_txt)\n",
        "\n",
        "#funcion range(inicio,stop,incremento)\n",
        "rango=range(1,10,2)\n",
        "print(rango)\n",
        "for x in rango:\n",
        " print(x)"
      ],
      "execution_count": 14,
      "outputs": [
        {
          "output_type": "stream",
          "text": [
            "    1,2, 3,4, 5,   35,   15,    12\n",
            "['1', '2', ' 3', '4', ' 5', '   35', '   15', '    12']\n",
            "[1, 2, 3, 4, 5, 35, 15, 12]\n",
            "range(1, 10, 2)\n",
            "1\n",
            "3\n",
            "5\n",
            "7\n",
            "9\n"
          ],
          "name": "stdout"
        }
      ]
    },
    {
      "cell_type": "markdown",
      "metadata": {
        "id": "jw0eh58gxvmF"
      },
      "source": [
        "# Listas\n",
        "-mutables\n",
        "\n",
        "-declaran con []\n",
        "\n",
        "-selector[int]\n",
        "\n",
        "#tuplas\n",
        "-no mutables\n",
        "\n",
        "-se declaran con ()\n",
        "\n",
        "-selectos(int)\n",
        "#diccionarios\n"
      ]
    },
    {
      "cell_type": "code",
      "metadata": {
        "id": "snvRO6UgyXC2",
        "outputId": "d36463d5-a909-4176-d4dc-a38f80be70c3",
        "colab": {
          "base_uri": "https://localhost:8080/",
          "height": 136
        }
      },
      "source": [
        "#listas (equivalentes a arreglos en otros lenguajes de programacion)\n",
        "frutas=[\"pera\", \"manzana\", \"fresa\", \"kiwi\", \"naranja\"]\n",
        "print(frutas)\n",
        "cosas=[\"cuadernos\",2,3.1416, True, False,[\"rojo\",\"azul\"]]\n",
        "print(cosas)\n",
        "frutas[2]=\"fresa\" #frutas[2]=frutas[2].capitalize()\n",
        "print(frutas)\n",
        "#agregar a la lista\n",
        "frutas.append(\"aguacate\")\n",
        "print(frutas)\n",
        "frutas.insert(2,\"sandia\")\n",
        "print(frutas)\n",
        "fecha=(\"6\",\"10\",\"2020\") #6/10/2020\n",
        "print(fecha)\n",
        "fecha_str=\"/\".join(fecha)\n",
        "print(fecha_str)"
      ],
      "execution_count": 23,
      "outputs": [
        {
          "output_type": "stream",
          "text": [
            "['pera', 'manzana', 'fresa', 'kiwi', 'naranja']\n",
            "['cuadernos', 2, 3.1416, True, False, ['rojo', 'azul']]\n",
            "['pera', 'manzana', 'fresa', 'kiwi', 'naranja']\n",
            "['pera', 'manzana', 'fresa', 'kiwi', 'naranja', 'aguacate']\n",
            "['pera', 'manzana', 'sandia', 'fresa', 'kiwi', 'naranja', 'aguacate']\n",
            "('6', '10', '2020')\n",
            "6/10/2020\n"
          ],
          "name": "stdout"
        }
      ]
    },
    {
      "cell_type": "code",
      "metadata": {
        "id": "E5mvk5Kq3XwK",
        "outputId": "d04b45f7-0111-4607-8f37-51bd0b87407b",
        "colab": {
          "base_uri": "https://localhost:8080/",
          "height": 187
        }
      },
      "source": [
        "#eliminar elementos\n",
        "cosas=[\"cuadernos\",2,3.1416, True, False,[\"rojo\",\"azul\"]]\n",
        "print(cosas)\n",
        "cosas.append(\"libro\")\n",
        "cosas.append(\"lapiz\")\n",
        "print(cosas)\n",
        "algo=cosas.pop()\n",
        "print(cosas)\n",
        "print(algo)\n",
        "algo=cosas.pop(2)\n",
        "print(cosas)\n",
        "print(algo)\n",
        "cosas.remove(2)\n",
        "print(cosas)\n",
        "#vaciar una lista\n",
        "#cosas.clear()\n",
        "print(cosas)\n",
        "#ordenar\n",
        "print(frutas)\n",
        "frutas.sort()\n",
        "print(frutas)\n"
      ],
      "execution_count": 30,
      "outputs": [
        {
          "output_type": "stream",
          "text": [
            "['cuadernos', 2, 3.1416, True, False, ['rojo', 'azul']]\n",
            "['cuadernos', 2, 3.1416, True, False, ['rojo', 'azul'], 'libro', 'lapiz']\n",
            "['cuadernos', 2, 3.1416, True, False, ['rojo', 'azul'], 'libro']\n",
            "lapiz\n",
            "['cuadernos', 2, True, False, ['rojo', 'azul'], 'libro']\n",
            "3.1416\n",
            "['cuadernos', True, False, ['rojo', 'azul'], 'libro']\n",
            "['cuadernos', True, False, ['rojo', 'azul'], 'libro']\n",
            "['pera', 'manzana', 'sandia', 'fresa', 'kiwi', 'naranja', 'aguacate']\n",
            "['aguacate', 'fresa', 'kiwi', 'manzana', 'naranja', 'pera', 'sandia']\n"
          ],
          "name": "stdout"
        }
      ]
    },
    {
      "cell_type": "code",
      "metadata": {
        "id": "f-nMQWgy7Ia5",
        "outputId": "83b92709-6c9b-4742-da1a-e59d08c23ea7",
        "colab": {
          "base_uri": "https://localhost:8080/",
          "height": 119
        }
      },
      "source": [
        "#slicing\n",
        "cosas=[\"cuadernos\",2,3.1416, True, False,[\"rojo\",\"azul\"]]\n",
        "print(cosas[3:5:1])\n",
        "print(cosas)\n",
        "print(cosas[0][3:5:1])\n",
        "numeros=(0,1,2,3,4,5,6,7,8,9,10,11,12,13,14,15)\n",
        "print(numeros)\n",
        "print(numeros[8:13:1])\n",
        "#sustituir rebanadas  -2-2-->(0,1,2,3,4,5,6,7,-2,-2,13,14,15)\n",
        "#preguntar por existencia\n",
        "print(100 in numeros)"
      ],
      "execution_count": 56,
      "outputs": [
        {
          "output_type": "stream",
          "text": [
            "[True, False]\n",
            "['cuadernos', 2, 3.1416, True, False, ['rojo', 'azul']]\n",
            "de\n",
            "(0, 1, 2, 3, 4, 5, 6, 7, 8, 9, 10, 11, 12, 13, 14, 15)\n",
            "(8, 9, 10, 11, 12)\n",
            "False\n"
          ],
          "name": "stdout"
        }
      ]
    },
    {
      "cell_type": "code",
      "metadata": {
        "id": "tsANNv_i_GrN",
        "outputId": "a01f6891-25f8-4e76-d6b9-7c32495c2be8",
        "colab": {
          "base_uri": "https://localhost:8080/",
          "height": 190
        }
      },
      "source": [
        "computadoras=[\"HP\", \"Mac Book Pro 17\",\"Mate Book\", \"Lenovo Legion\"]\n",
        "oss=[\"Windows 10\", \"Linux\", \"Android\", \"IOS\"]\n",
        "computo=[computadoras,oss]\n",
        "print(computo[0])\n",
        "print(computo[1])\n",
        "print(computo[0][2])\n",
        "print(computo[0][2][0:5])\n",
        "print(computo[0][3][5::-1])\n",
        "print(\"Linux\" in computo[1])\n",
        "dbms=[[\"Mysq1\",\"Open Source\", False],[\"MS SQL Server\", \"de paga\", True]]\n",
        "computo.append(dbms)\n",
        "print(computo)\n",
        "print(computo[2][0][0])\n",
        "print(computo[2][1][1])"
      ],
      "execution_count": 63,
      "outputs": [
        {
          "output_type": "stream",
          "text": [
            "['HP', 'Mac Book Pro 17', 'Mate Book', 'Lenovo Legion']\n",
            "['Windows 10', 'Linux', 'Android', 'IOS']\n",
            "Mate Book\n",
            "Mate \n",
            "ovoneL\n",
            "True\n",
            "[['HP', 'Mac Book Pro 17', 'Mate Book', 'Lenovo Legion'], ['Windows 10', 'Linux', 'Android', 'IOS'], [['Mysq1', 'Open Source', False], ['MS SQL Server', 'de paga', True]]]\n",
            "Mysq1\n",
            "de paga\n"
          ],
          "name": "stdout"
        }
      ]
    }
  ]
}